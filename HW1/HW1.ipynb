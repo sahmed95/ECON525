{
 "cells": [
  {
   "cell_type": "code",
   "execution_count": 1,
   "id": "67bd9719",
   "metadata": {},
   "outputs": [],
   "source": [
    "import numpy as np"
   ]
  },
  {
   "cell_type": "markdown",
   "id": "4072e249",
   "metadata": {},
   "source": [
    "<b> Problem 1: <b>\n",
    "    \n",
    "  The machine epsilon is found to be $ 2.220446049250313\\times 10^{-16}$. The program used to find this value of machine epsilon is provided below. "
   ]
  },
  {
   "cell_type": "code",
   "execution_count": 2,
   "id": "acfa5ba4",
   "metadata": {},
   "outputs": [
    {
     "name": "stdout",
     "output_type": "stream",
     "text": [
      "The machine epsilon is 2.220446049250313e-16\n"
     ]
    }
   ],
   "source": [
    "# 1. Finding the machine epsilon \n",
    "\n",
    "eps = 1\n",
    "while 1+eps>1 and 1-eps<1:\n",
    "    eps = eps/2\n",
    "machine_epsilon = 2*eps\n",
    "        \n",
    "print(\"The machine epsilon is\", machine_epsilon) "
   ]
  },
  {
   "cell_type": "markdown",
   "id": "5e69cfdb",
   "metadata": {},
   "source": [
    "<b> Problem 2: <b>\n",
    " \n",
    "We want to write a program to solve $Ax=b$ for \n",
    "    \n",
    "$$\n",
    "A = \\begin{bmatrix} 54 & 14&-11&2\\\\ 14 &50 &-4 &29 \\\\ -11&-4&55&22\\\\ 2&29&22&95\n",
    "\\end{bmatrix}, b = \\begin{bmatrix} 1\\\\1\\\\1\\\\1 \\end{bmatrix}.\n",
    "$$\n",
    "    \n",
    "<b> a) <b> L-U Decomposition:\n",
    "    \n",
    "We will first solve it using the L-U decomposition. The following provides the code for the L-U decomposition of a non-singular square matrix $A$."
   ]
  },
  {
   "cell_type": "code",
   "execution_count": 3,
   "id": "3eeadc6b",
   "metadata": {},
   "outputs": [],
   "source": [
    "def lu_factor(A):\n",
    "    # Returns the LU factorization of a non singular square matrix A \n",
    "    U = A.copy()\n",
    "    n = A.shape[0]\n",
    "    L = np.identity(n)\n",
    "    for i in range(n-1): \n",
    "        L_n = np.identity(n)\n",
    "        for j in range(n-(i+1)):\n",
    "            l = U[j+(i+1), i]/U[i, i]\n",
    "            L_n[j+(i+1), i] = -l\n",
    "        inv_L_n = np.linalg.inv(L_n)\n",
    "        U = np.matmul(L_n, U)\n",
    "        L = np.matmul(L, inv_L_n)\n",
    "    return L, U"
   ]
  },
  {
   "cell_type": "markdown",
   "id": "9d85e9b1",
   "metadata": {},
   "source": [
    "The above code only computes the L-U factorization but does not solve the linear problem. We need to use back-substitution to be able to solve for $Ax = b$. We have to be careful because we want the backward substitution to work for both lower and upper triangular matrices. The following code contains a backsubstitution algorithm for both lower and upper triangular matrices. "
   ]
  },
  {
   "cell_type": "code",
   "execution_count": 4,
   "id": "3d92b0e4",
   "metadata": {},
   "outputs": [],
   "source": [
    "def backsub(A,b): \n",
    "    n = A.shape[0]\n",
    "    x = np.zeros(n)\n",
    "    # Check if matrix is lower or upper triangular (assuming we only input lower and upper triangular matrices)\n",
    "    lower = False\n",
    "    above_diag = 0 \n",
    "    for i in range(n-1):\n",
    "        above_diag += np.sum(A[i,i+1:n])\n",
    "    if above_diag == 0:\n",
    "        lower = True \n",
    "        \n",
    "    # If matrix is lower triangular \n",
    "    if lower == True:\n",
    "        x[0] = b[0]/A[0,0]\n",
    "        for k in range(1,n):\n",
    "            a = A[k, 0:k]\n",
    "            x_vec = x[0:k]\n",
    "            val = np.dot(a, x_vec)\n",
    "            x[k] = (b[k]-val)/A[k,k]\n",
    "    \n",
    "    # If matrix is upper triangular\n",
    "    else: \n",
    "        x[-1] = b[-1]/A[-1,-1]\n",
    "        len = list(range(n-1))\n",
    "        len.reverse()\n",
    "        for i in len:\n",
    "            a = A[i,i+1:]\n",
    "            x_vec = x[i+1:]\n",
    "            val = np.dot(a,x_vec)\n",
    "            x[i]= (b[i]-val)/A[i,i]    \n",
    "    return x "
   ]
  },
  {
   "cell_type": "markdown",
   "id": "f190021a",
   "metadata": {},
   "source": [
    "We are now fully equipped to solve the system $Ax = b$. We will first compute the L-U factorization of $A: A = LU$. Then, we solve the following system for $y$ using back-substitution: $Ly = b$. Finally, we solve $Ux = y$ for $x$ using backsubstituion to get the solution to $Ax=b$. The code for it is provided below. Using the code, we find that: \n",
    "\n",
    "$$\n",
    "x_{lu} = \\begin{bmatrix}\n",
    "0.01893441 \\\\  0.01680508 \\\\ 0.02335523\\\\ -0.00041085\n",
    "\\end{bmatrix}\n",
    "$$"
   ]
  },
  {
   "cell_type": "code",
   "execution_count": 5,
   "id": "91dbff0b",
   "metadata": {},
   "outputs": [
    {
     "name": "stdout",
     "output_type": "stream",
     "text": [
      "The solution to the problem using LU factorization is [ 0.01893441  0.01680508  0.02335523 -0.00041085]\n"
     ]
    }
   ],
   "source": [
    "A = np.array([[54., 14., -11., 2.],\n",
    "[14., 50., -4., 29.],\n",
    "[-11., -4., 55., 22.],\n",
    "[2., 29., 22., 95.]])\n",
    "n = A.shape[0]\n",
    "b = np.ones(n)\n",
    "\n",
    "# 2a) Solving the problem using LU decomposition\n",
    "\n",
    "L, U = lu_factor(A)\n",
    "y = backsub(L,b)\n",
    "x_lu = backsub(U,y)\n",
    "print(\"The solution to the problem using LU factorization is\", x_lu)"
   ]
  },
  {
   "cell_type": "markdown",
   "id": "2ee7f0d6",
   "metadata": {},
   "source": [
    "<b> b) <b> Gauss-Jacobi Iteration:\n",
    "    \n",
    "We want to solve $Ax =b$ using Gauss-Jacobi iteration. Since, the solution to this is not exact we stop our iteration when the solution from the iteration agrees with the L-U decomposition solution to four significant digits. The following code creates a function to conduct Gauss-Jacobi iteration and it returns the number of iterations needed to reach agreement to four significant digits and the solution $x$. After feeding in matrix $A$ and vector $b$ from our problem, we find that the solution to the problem using Gauss-Jacobi iteration is \n",
    "    \n",
    "$$\n",
    "x_{gj}= \\begin{bmatrix} 0.01893441\\\\ 0.01680507 \\\\ 0.02335523 \\\\ -0.00041085\\end{bmatrix}\n",
    "$$\n",
    "    \n",
    " and it required $25$ iterations to agree with LU decomposition solution to 4 s.d."
   ]
  },
  {
   "cell_type": "code",
   "execution_count": 6,
   "id": "087a23fd",
   "metadata": {},
   "outputs": [
    {
     "name": "stdout",
     "output_type": "stream",
     "text": [
      "The solution to the problem using Gauss-Jacobi iteration is [ 0.01893441  0.01680507  0.02335523 -0.00041085] and it required 25 iterations to agree with LU decomposition solution to 4 s.d.\n"
     ]
    }
   ],
   "source": [
    "def gauss_jacobi(A, b, x_true):\n",
    "    n = A.shape[0]\n",
    "    # initial guess\n",
    "    x_guess = np.zeros(n)\n",
    "    counter = 0\n",
    "    while np.max(np.abs(x_guess-x_true))>0.00000001:\n",
    "        new_x_guess = np.zeros(n)\n",
    "        counter += 1\n",
    "        for i in range(n): \n",
    "            a = A[i,:]\n",
    "            a = np.delete(a,i)\n",
    "            x_guess_copy = np.delete(x_guess, i)\n",
    "            val = np.dot(a,x_guess_copy)\n",
    "            new_x_guess[i] = (1/A[i,i])*(b[i]-val)\n",
    "        x_guess = new_x_guess\n",
    "    return x_guess, counter\n",
    "\n",
    "\n",
    "# 2b) Gauss-Jacobi\n",
    "\n",
    "x_gj, counter_gj = gauss_jacobi(A,b,x_lu)\n",
    "\n",
    "print(\"The solution to the problem using Gauss-Jacobi iteration is\", x_gj, \"and it required\", counter_gj, \"iterations to agree with LU decomposition solution to 4 s.d.\" )\n"
   ]
  },
  {
   "cell_type": "markdown",
   "id": "7069e70f",
   "metadata": {},
   "source": [
    "<b> c) <b> Gauss-Seidel Iteration\n",
    "    \n",
    " Finally, we will solve the system $Ax = b$ using Gauss-Seidel iteration. The solution, again, is not going to be exact and so we stop iterating when we have agreement to four significant digits with the solution from L-U decomposition. The following code contains the code for the Gauss-Seidel iteration and it returns the number of iterations needed to reach desired level of tolerance along with the solution $x$. The solution to our system $Ax = b$ is\n",
    "    \n",
    " $$\n",
    "x_{gs}= \\begin{bmatrix}\n",
    "0.01893441\\\\ 0.01680507 \\\\ 0.02335523 \\\\ -0.00041085\n",
    " \\end{bmatrix}\n",
    " $$\n",
    "    \n",
    " and it required $12$ iterations to agree with LU decomposition solution to 4 s.d. This makes sense because it should take fewer iterations for Gauss-Seidel because it uses new information more than Gauss-Jacobi. "
   ]
  },
  {
   "cell_type": "code",
   "execution_count": 7,
   "id": "5b85e72b",
   "metadata": {},
   "outputs": [
    {
     "name": "stdout",
     "output_type": "stream",
     "text": [
      "The solution to the problem using Gauss-Seidel iteration is [ 0.01893441  0.01680507  0.02335523 -0.00041085] and it required 12 iterations to agree with LU decomposition solution to 4 s.d.\n"
     ]
    }
   ],
   "source": [
    "def gauss_seidel(A, b, x_true):\n",
    "    n = A.shape[0]\n",
    "    # initial guess\n",
    "    x_guess = np.zeros(n)\n",
    "    counter = 0\n",
    "    while np.max(np.abs(x_guess-x_true))>0.00000001:\n",
    "        new_x_guess = np.zeros(n)\n",
    "        counter += 1\n",
    "        for i in range(n):\n",
    "            if i ==0:\n",
    "                a = A[i, 1:]\n",
    "                x_guess_copy = x_guess[1:]\n",
    "                val = np.dot(a, x_guess_copy)\n",
    "                new_x_guess[i] = (1/A[i,i])*(b[i]-val)\n",
    "            else:\n",
    "                a_new = A[i,0:i]\n",
    "                a_old = A[i, i+1:]\n",
    "                new_x_copy = new_x_guess[0:i]\n",
    "                x_guess_copy = x_guess[i+1:]\n",
    "                val_new = np.dot(a_new, new_x_copy)\n",
    "                val_old = np.dot(a_old, x_guess_copy)\n",
    "                new_x_guess[i] = (1/A[i,i])*(b[i]-val_new-val_old)\n",
    "        x_guess = new_x_guess\n",
    "    return x_guess, counter\n",
    "\n",
    "# 2c) Gauss-Seidel \n",
    "\n",
    "x_gs, counter_gs = gauss_seidel(A,b,x_lu)\n",
    "\n",
    "print(\"The solution to the problem using Gauss-Seidel iteration is\", x_gs, \"and it required\", counter_gs, \"iterations to agree with LU decomposition solution to 4 s.d.\" )\n"
   ]
  },
  {
   "cell_type": "markdown",
   "id": "f65baff3",
   "metadata": {},
   "source": [
    "<b> Problem 3: <b>\n",
    "   \n",
    "We want to compute the solution to the following non-linear problem:\n",
    "    \n",
    "$$\n",
    "f_1(x_1, x_2) = x_1^{0.2}+x_2^{0.2}-2 = 0\n",
    "$$\n",
    "    \n",
    "$$\n",
    "f_2(x_1, x_2) = x_1^{0.1}+x_2^{0.4}-2 = 0\n",
    "$$\n",
    "    \n",
    "Clearly, a solution to the problem is $(x_1, x_2) = (1,1)$. \n",
    "    \n",
    "In the following piece of code, we define the functions $f_1(x_1, x_2)$ and $f_2(x_1, x_2)$. We also compute the partial derivatives: $\\frac{\\partial f_1(x_1, x_2)}{\\partial x_1}, \\frac{\\partial f_1(x_1, x_2)}{\\partial x_2}, \\frac{\\partial f_2(x_1, x_2)}{\\partial x_1}$ and $\\frac{\\partial f_2(x_1, x_2)}{\\partial x_2}$. This will help us compute the Jacobian. "
   ]
  },
  {
   "cell_type": "code",
   "execution_count": 8,
   "id": "3a86adaf",
   "metadata": {},
   "outputs": [],
   "source": [
    "def f1(x1,x2):\n",
    "    return x1**(0.2) +x2**(0.2) -2 \n",
    "\n",
    "def f2(x1,x2):\n",
    "    return x1**(0.1) +x2**(0.4)-2 \n",
    "\n",
    "def f1_1(x1,x2): \n",
    "    return 0.2*(x1**(-0.8))\n",
    "\n",
    "def f1_2(x1,x2): \n",
    "    return 0.2*(x2**(-0.8))\n",
    "\n",
    "def f2_1(x1,x2):\n",
    "    return 0.1*(x1**(-0.9))\n",
    "\n",
    "def f2_2(x1,x2): \n",
    "    return 0.4*(x2**(-0.6))"
   ]
  },
  {
   "cell_type": "markdown",
   "id": "16b429c6",
   "metadata": {},
   "source": [
    "<b> Gauss-Jacobi: <b>\n",
    "    \n",
    " We will solve the non-linear problem using the Gauss-Jacobi algorithm. The following piece of code contains the Gauss-Jacobi algorithm:"
   ]
  },
  {
   "cell_type": "code",
   "execution_count": 9,
   "id": "49f0b177",
   "metadata": {},
   "outputs": [],
   "source": [
    "def gauss_jacobi_nonlinear(x_0):\n",
    "    max_iterations = 500\n",
    "    x_guess = x_0\n",
    "    tol = 1e-4\n",
    "    counter = 0\n",
    "    diff = 1000\n",
    "    while diff > tol: \n",
    "        counter +=1\n",
    "        if counter > max_iterations: \n",
    "            print(\"We passed the maximum number of iterations and the method did not converge.\")\n",
    "            break \n",
    "        else:\n",
    "            x1 = x_guess[0]\n",
    "            x2 = x_guess[1]\n",
    "            new_guess = np.zeros(2)\n",
    "            new_guess[0] = x1-(f1(x1,x2)/f1_1(x1,x2))\n",
    "            new_guess[1] = x2 - (f2(x1,x2)/f2_2(x1,x2))\n",
    "            diff = np.max(np.abs(x_guess-new_guess))\n",
    "            x_guess = new_guess\n",
    "    \n",
    "    return x_guess, counter\n",
    "    "
   ]
  },
  {
   "cell_type": "markdown",
   "id": "a2b6ad20",
   "metadata": {},
   "source": [
    "We will now solve our problem using Gauss-Jacobi algorithm and two sets of initial points: $(x_1^0, x_2^0)=(2,2)$ and $(x_1^0, x_2^0)=(3,3)$. "
   ]
  },
  {
   "cell_type": "code",
   "execution_count": 10,
   "id": "4e94c049",
   "metadata": {},
   "outputs": [
    {
     "name": "stderr",
     "output_type": "stream",
     "text": [
      "/var/folders/xd/3hdyv6y13hsbb53tkk_tz62r0000gn/T/ipykernel_96384/3391074956.py:2: RuntimeWarning: invalid value encountered in double_scalars\n",
      "  return x1**(0.2) +x2**(0.2) -2\n",
      "/var/folders/xd/3hdyv6y13hsbb53tkk_tz62r0000gn/T/ipykernel_96384/3391074956.py:8: RuntimeWarning: invalid value encountered in double_scalars\n",
      "  return 0.2*(x1**(-0.8))\n",
      "/var/folders/xd/3hdyv6y13hsbb53tkk_tz62r0000gn/T/ipykernel_96384/3391074956.py:5: RuntimeWarning: invalid value encountered in double_scalars\n",
      "  return x1**(0.1) +x2**(0.4)-2\n",
      "/var/folders/xd/3hdyv6y13hsbb53tkk_tz62r0000gn/T/ipykernel_96384/3391074956.py:17: RuntimeWarning: invalid value encountered in double_scalars\n",
      "  return 0.4*(x2**(-0.6))\n"
     ]
    }
   ],
   "source": [
    "x_guess_1 = np.array([2,2])\n",
    "x_guess_2 = np.array([3,3])\n",
    "\n",
    "x_gj_1, counter_gj_1 = gauss_jacobi_nonlinear(x_guess_1)\n",
    "x_gj_2, counter_gj_2 = gauss_jacobi_nonlinear(x_guess_2)"
   ]
  },
  {
   "cell_type": "markdown",
   "id": "3b9ad064",
   "metadata": {},
   "source": [
    "We run into some runtime errors above. This maybe due to the fact that we get complex roots in the process. For example, when we compute $0.5^{\\frac{3}{5}}$ we can get five possible roots out of which four are complex. We have to find a way to only get positive roots. The following piece of code redefines the functions so as to pick the positive square root. "
   ]
  },
  {
   "cell_type": "code",
   "execution_count": 11,
   "id": "7b38f339",
   "metadata": {},
   "outputs": [],
   "source": [
    "def f1(x1,x2):\n",
    "    sign_1 = np.sign(x1)\n",
    "    sign_2 = np.sign(x2)\n",
    "    return(np.abs(x1)**.2 * sign_1 + np.abs(x2)**.2 * sign_2 - 2)\n",
    "\n",
    "def f2(x1,x2):\n",
    "    sign_1 = np.sign(x1)\n",
    "    sign_2 = np.sign(x2)\n",
    "    return(np.abs(x1)**.1 * sign_1 + np.abs(x2)**.4 * sign_2 - 2)\n",
    "\n",
    "def f1_1(x1,x2):\n",
    "    return(.2*np.abs(x1)**(-.8))\n",
    "\n",
    "def f2_2(x1,x2):\n",
    "    sign_1 = np.sign(x1)\n",
    "    return(.4*np.abs(x1)**(-.6) * sign_1)\n",
    "\n",
    "def f1_2(x1,x2):\n",
    "    return(.2*np.abs(x2)**(-.8))\n",
    "\n",
    "def f2_1(x1,x2):\n",
    "    sign_2 = np.sign(x2)\n",
    "    return(.1*np.abs(x2)**(-.9) * sign_2)"
   ]
  },
  {
   "cell_type": "markdown",
   "id": "fe2fce49",
   "metadata": {},
   "source": [
    "We will use the newly defined functions to solve for the problem using Gauss-Jacobi iterations with the two sets of initial points. The iterations did not converge for both the intial points and we were not able to find a solution. "
   ]
  },
  {
   "cell_type": "code",
   "execution_count": 12,
   "id": "828cc936",
   "metadata": {},
   "outputs": [
    {
     "name": "stdout",
     "output_type": "stream",
     "text": [
      "We passed the maximum number of iterations and the method did not converge.\n",
      "We passed the maximum number of iterations and the method did not converge.\n"
     ]
    }
   ],
   "source": [
    "x_gj_1, counter_gj_1 = gauss_jacobi_nonlinear(x_guess_1)\n",
    "\n",
    "x_gj_2, counter_gj_2 = gauss_jacobi_nonlinear(x_guess_2)"
   ]
  },
  {
   "cell_type": "markdown",
   "id": "4bbb3377",
   "metadata": {},
   "source": [
    "We did not converge to a solution using Gauss-Jacobi algorithm with the two starting values provied. We instead try using $(x_1^0, x_2^0)=(0.5, 0.5)$ and $(x_1^0, x_2^0)=(1.5, 1.5)$ as intial guesses. Our algorithm converges and the solution is summarized below: \n",
    "\n",
    "The solution to the problem using Gauss-Jacobi algorithm and initial guess of $(x_1^0, x_2^0)=(0.5,0.5)$ is $$x = \\begin{bmatrix}0.99998944 \\\\ 0.99998397\\end{bmatrix}$$ \n",
    "and it converged in 14 iterations.\n",
    "\n",
    "The solution to the problem using Gauss-Jacobi algorithm and initial guess of $(x_1^0, x_2^0)=(1.5,1.5)$ is \n",
    "$$x = \\begin{bmatrix}0.99995378 \\\\ 1.0000159 \\end{bmatrix}$$ \n",
    "and it converged in 14 iterations.\n"
   ]
  },
  {
   "cell_type": "code",
   "execution_count": 13,
   "id": "47f6168b",
   "metadata": {},
   "outputs": [
    {
     "name": "stdout",
     "output_type": "stream",
     "text": [
      "The solution to the problem using Gauss-Jacobi algorithm and initial guess of (0.5,0.5) is [0.99998944 0.99998397] and it converged in 14 iterations\n",
      "The solution to the problem using Gauss-Jacobi algorithm and initial guess of (1.5,1.5) is [0.99995378 1.0000159 ] and it converged in 14 iterations\n"
     ]
    }
   ],
   "source": [
    "x_guess_3 = np.array([0.5, 0.5])\n",
    "x_guess_4 = np.array([1.5, 1.5])\n",
    "\n",
    "x_gj_3, counter_gj_3 = gauss_jacobi_nonlinear(x_guess_3)\n",
    "\n",
    "print(\"The solution to the problem using Gauss-Jacobi algorithm and initial guess of (0.5,0.5) is\", x_gj_3,'and it converged in', counter_gj_3, 'iterations')\n",
    "\n",
    "x_gj_4, counter_gj_4 = gauss_jacobi_nonlinear(x_guess_4)\n",
    "\n",
    "print(\"The solution to the problem using Gauss-Jacobi algorithm and initial guess of (1.5,1.5) is\", x_gj_4,'and it converged in', counter_gj_4, 'iterations')\n",
    "\n"
   ]
  },
  {
   "cell_type": "markdown",
   "id": "18b8dfe9",
   "metadata": {},
   "source": [
    "<b> Gauss-Seidel: <b>\n",
    "    \n",
    " We will solve the non-linear problem using the Gauss-Seidel algorithm. The following piece of code contains the Gauss-Seidel algorithm: "
   ]
  },
  {
   "cell_type": "code",
   "execution_count": 14,
   "id": "8813ad6c",
   "metadata": {},
   "outputs": [],
   "source": [
    "def gauss_seidel_nonlinear(x_0):\n",
    "    max_iterations = 500\n",
    "    x_guess = x_0\n",
    "    tol = 1e-4\n",
    "    counter = 0\n",
    "    diff = 1000\n",
    "    while diff > tol: \n",
    "        counter +=1\n",
    "        if counter > max_iterations: \n",
    "            print(\"We passed the maximum number of iterations and the method did not converge.\")\n",
    "            break \n",
    "        else:\n",
    "            x1 = x_guess[0]\n",
    "            x2 = x_guess[1]\n",
    "            new_guess = np.zeros(2)\n",
    "            new_guess[0] = x1-(f1(x1,x2)/f1_1(x1,x2))\n",
    "            new_guess[1] = x2 - (f2(new_guess[0],x2)/f2_2(new_guess[0],x2))\n",
    "            diff = np.max(np.abs(new_guess-x_guess))\n",
    "            x_guess = new_guess\n",
    "    return x_guess, counter "
   ]
  },
  {
   "cell_type": "markdown",
   "id": "c02e137f",
   "metadata": {},
   "source": [
    "We will now solve our problem using Gauss-Seidel algorithm and two sets of initial points: $(x_1^0, x_2^0)=(2,2)$ and $(x_1^0, x_2^0)=(3,3)$. We will still use the newly defined functions to ensure we do not run into a problem of encountering complex roots. The Gauss-Seidel iteration also fails to converge to a solution with the two intial points given in the problem. "
   ]
  },
  {
   "cell_type": "code",
   "execution_count": 15,
   "id": "b650430d",
   "metadata": {},
   "outputs": [
    {
     "name": "stdout",
     "output_type": "stream",
     "text": [
      "We passed the maximum number of iterations and the method did not converge.\n",
      "We passed the maximum number of iterations and the method did not converge.\n"
     ]
    }
   ],
   "source": [
    "x_gs_1, counter_gs_1 = gauss_seidel_nonlinear(x_guess_1)\n",
    "\n",
    "x_gs_2, counter_gs_2 = gauss_seidel_nonlinear(x_guess_2)"
   ]
  },
  {
   "cell_type": "markdown",
   "id": "21858af8",
   "metadata": {},
   "source": [
    "We did not converge to a solution using Gauss-Seidel algorithm with the two starting values provied. We instead try using $(x_1^0, x_2^0)=(0.5, 0.5)$ and $(x_1^0, x_2^0)=(1.5, 1.5)$ as intial guesses. Our algorithm converges and the solution is summarized below: \n",
    "\n",
    "The solution to the problem using Gauss-Seidel algorithm and initial guess of $(x_1^0, x_2^0)=(0.5,0.5)$ is $$x = \\begin{bmatrix}0.99998008\\\\ 1.00000498\\end{bmatrix}$$ \n",
    "and it converged in 9 iterations.\n",
    "\n",
    "The solution to the problem using Gauss-Seidel algorithm and initial guess of $(x_1^0, x_2^0)=(1.5,1.5)$ is \n",
    "$$x = \\begin{bmatrix} 0.99999022\\\\1.00000244\\end{bmatrix}$$ \n",
    "and it converged in 11 iterations."
   ]
  },
  {
   "cell_type": "code",
   "execution_count": 16,
   "id": "4362f06e",
   "metadata": {},
   "outputs": [
    {
     "name": "stdout",
     "output_type": "stream",
     "text": [
      "The solution to the problem using Gauss-Seidel algorithm and initial guess of (0.5,0.5) is [0.99998008 1.00000498] and it converged in 9 iterations\n",
      "The solution to the problem using Gauss-Seidel algorithm and initial guess of (1.5,1.5) is [0.99999022 1.00000244] and it converged in 11 iterations\n"
     ]
    }
   ],
   "source": [
    "x_gs_3, counter_gs_3 = gauss_seidel_nonlinear(x_guess_3)\n",
    "\n",
    "print(\"The solution to the problem using Gauss-Seidel algorithm and initial guess of (0.5,0.5) is\", x_gs_3,'and it converged in', counter_gs_3, 'iterations')\n",
    "\n",
    "x_gs_4, counter_gs_4 = gauss_seidel_nonlinear(x_guess_4)\n",
    "\n",
    "print(\"The solution to the problem using Gauss-Seidel algorithm and initial guess of (1.5,1.5) is\", x_gs_4,'and it converged in', counter_gs_4, 'iterations')\n",
    "\n"
   ]
  },
  {
   "cell_type": "markdown",
   "id": "4012fbdc",
   "metadata": {},
   "source": [
    "<b>Newton's Method: <b>\n",
    "    \n",
    " We will now solve the problem using Newton's method. We will need to compute the Jacobian for Newton's method. The following piece of code contains the algorithm for Newton's method and a function to calculate the Jacobian using the functions we had defined earlier. We will continue using the newly defined functions to ensure we are only accounting for positive roots. "
   ]
  },
  {
   "cell_type": "code",
   "execution_count": 17,
   "id": "2a203aff",
   "metadata": {},
   "outputs": [],
   "source": [
    "def jacobian(x1, x2): \n",
    "    J = np.eye(2)\n",
    "    J[0,0] = f1_1(x1, x2)\n",
    "    J[0,1] = f1_2(x1, x2)\n",
    "    J[1,0] = f2_1(x1, x2)\n",
    "    J[1,1] = f2_2(x1, x2)\n",
    "    return J\n",
    "\n",
    "def newton(x_0): \n",
    "    max_iterations = 500\n",
    "    eps = 1e-4\n",
    "    delta = 1e-4\n",
    "    diff = 1000\n",
    "    counter = 0\n",
    "    while diff > eps:\n",
    "        counter +=1\n",
    "        if counter > max_iterations:\n",
    "            print(\"The maximum number of iterations has been reached and we did not converge.\")\n",
    "            break\n",
    "        else: \n",
    "            x1 = x_0[0]\n",
    "            x2 = x_0[1]\n",
    "            J = jacobian(x1, x2)\n",
    "            J_inv = np.linalg.inv(J)\n",
    "            f = np.zeros((2,))\n",
    "            f[0] = f1(x1,x2)\n",
    "            f[1] = f2(x1,x2)\n",
    "            val = np.matmul(J_inv, f)\n",
    "            x_new = x_0-val\n",
    "            diff = np.max(np.abs(x_new-x_0))-eps*(np.max(np.abs(x_new)))\n",
    "            x_0 = x_new\n",
    "    f = np.array([f1(x_0[0], x_0[1]),f2(x_0[0], x_0[1]) ])\n",
    "    if np.max(np.abs(f)) > delta:\n",
    "        print(\"Failure\")\n",
    "    else: \n",
    "        print(\"Success\")\n",
    "        \n",
    "    return x_0, counter"
   ]
  },
  {
   "cell_type": "markdown",
   "id": "3e18a9eb",
   "metadata": {},
   "source": [
    "We will now solve the problem using Newton's method and two sets of initial points: $(x_1^0, x_2^0)=(2,2)$ and $(x_1^0, x_2^0)=(3,3)$. \n",
    "\n",
    "$(x_1^0, x_2^0)=(2,2)$: Newton's method gives the following solution in 5 iterations: \n",
    "\n",
    "$$\n",
    "x = \\begin{bmatrix} 1 \\\\1 \\end{bmatrix}.\n",
    "$$\n",
    "\n",
    "$(x_1^0, x_2^0)=(3,3)$: Newton's method exceeds the maximum number of iterations without converging. This is consistent with what was found in the textbook. "
   ]
  },
  {
   "cell_type": "code",
   "execution_count": 18,
   "id": "f1675144",
   "metadata": {},
   "outputs": [
    {
     "name": "stdout",
     "output_type": "stream",
     "text": [
      "Success\n",
      "The solution from Newton's method with the first set of initial values is [1. 1.] and it converged in 5 iterations.\n"
     ]
    }
   ],
   "source": [
    "x_newton1,iterations_newt1 = newton(x_guess_1)\n",
    "\n",
    "print(\"The solution from Newton's method with the first set of initial values is\", x_newton1, \"and it converged in\", iterations_newt1, \"iterations.\")\n"
   ]
  },
  {
   "cell_type": "code",
   "execution_count": 19,
   "id": "e1b0262c",
   "metadata": {},
   "outputs": [
    {
     "name": "stdout",
     "output_type": "stream",
     "text": [
      "The maximum number of iterations has been reached and we did not converge.\n",
      "Failure\n",
      "The solution from Newton's method with the second set of initial values is [-3.78039133e+267  3.78039133e+267] and it converged in 501 iterations.\n"
     ]
    }
   ],
   "source": [
    "x_newton2,iterations_newt2 = newton(x_guess_2)\n",
    "\n",
    "print(\"The solution from Newton's method with the second set of initial values is\", x_newton2, \"and it converged in\", iterations_newt2, \"iterations.\")"
   ]
  },
  {
   "cell_type": "markdown",
   "id": "3552fb12",
   "metadata": {},
   "source": [
    "<b> Broyden's method: <b>\n",
    "    \n",
    " Finally, we will now solve the problem using Broyden's method. The following piece of code contains the algorithm for Broyden's method:"
   ]
  },
  {
   "cell_type": "code",
   "execution_count": 20,
   "id": "028276b7",
   "metadata": {},
   "outputs": [],
   "source": [
    "def f(x):\n",
    "    x1 = x[0]\n",
    "    x2 = x[1]\n",
    "    return np.array([f1(x1, x2), f2(x1, x2)])\n",
    "\n",
    "\n",
    "def broyden(x_0):\n",
    "    max_iterations = 500\n",
    "    eps = 1e-4\n",
    "    delta = 1e-4\n",
    "    diff = 1000\n",
    "    counter = 0\n",
    "    # Initial guess of Jacobian\n",
    "    J_guess = jacobian(x_0[0], x_0[1])\n",
    "    while diff > eps:\n",
    "        counter +=1\n",
    "        if counter > max_iterations:\n",
    "            print(\"The maximum number of iterations has been reached and we did not converge.\")\n",
    "            break\n",
    "        else: \n",
    "            J_guess_inv = np.linalg.inv(J_guess)\n",
    "            s_k = -np.matmul(J_guess_inv, f(x_0))\n",
    "            new_guess = x_0 + s_k\n",
    "            diff = np.max(np.abs(x_0-new_guess))-eps*np.max(np.abs(new_guess))\n",
    "            y_k = f(new_guess)-f(x_0)\n",
    "            val_k = np.matmul(J_guess, s_k)\n",
    "            num_k = np.matmul((y_k-val_k), np.transpose(s_k))\n",
    "            denom_k = np.dot(s_k, s_k)\n",
    "            J_guess = J_guess + num_k/denom_k\n",
    "            x_0 = new_guess\n",
    "    f_x = np.array([f1(x_0[0], x_0[1]),f2(x_0[0], x_0[1]) ])\n",
    "    if np.max(np.abs(f_x)) > delta:\n",
    "        print(\"Failure\")\n",
    "    else: \n",
    "        print(\"Success\")\n",
    "    return x_0, counter\n",
    "    "
   ]
  },
  {
   "cell_type": "markdown",
   "id": "e5b556e7",
   "metadata": {},
   "source": [
    "We will now solve the problem using Broyden's method and two sets of initial points: $(x_1^0, x_2^0)=(2,2)$ and $(x_1^0, x_2^0)=(3,3)$. \n",
    "\n",
    "$(x_1^0, x_2^0)=(2,2)$: Broyden's method gives the following solution in 10 iterations: \n",
    "\n",
    "$$\n",
    "x = \\begin{bmatrix} 1.00007144\\\\0.99995617 \\end{bmatrix}.\n",
    "$$\n",
    "\n",
    "$(x_1^0, x_2^0)=(3,3)$: Broyden's method gives the following solution in 25 iterations:\n",
    "\n",
    "$$\n",
    "x = \\begin{bmatrix} 1.000082\\\\0.99991826 \\end{bmatrix}.\n",
    "$$\n"
   ]
  },
  {
   "cell_type": "code",
   "execution_count": 21,
   "id": "a37f7840",
   "metadata": {},
   "outputs": [
    {
     "name": "stdout",
     "output_type": "stream",
     "text": [
      "Success\n",
      "The solution from Broyden's method with the first set of initial values is [1.00007144 0.99995617] and it converged in 10 iterations.\n"
     ]
    }
   ],
   "source": [
    "x_broyd1,iterations_broyd1 = broyden(x_guess_1)\n",
    "\n",
    "print(\"The solution from Broyden's method with the first set of initial values is\", x_broyd1, \"and it converged in\", iterations_broyd1, \"iterations.\")"
   ]
  },
  {
   "cell_type": "code",
   "execution_count": 22,
   "id": "2de3ec1c",
   "metadata": {},
   "outputs": [
    {
     "name": "stdout",
     "output_type": "stream",
     "text": [
      "Success\n",
      "The solution from Broyden's method with the second set of initial values is [1.000082   0.99991826] and it converged in 25 iterations.\n"
     ]
    }
   ],
   "source": [
    "x_broyd2,iterations_broyd2 = broyden(x_guess_2)\n",
    "\n",
    "print(\"The solution from Broyden's method with the second set of initial values is\", x_broyd2, \"and it converged in\", iterations_broyd2, \"iterations.\")"
   ]
  }
 ],
 "metadata": {
  "kernelspec": {
   "display_name": "Python 3 (ipykernel)",
   "language": "python",
   "name": "python3"
  },
  "language_info": {
   "codemirror_mode": {
    "name": "ipython",
    "version": 3
   },
   "file_extension": ".py",
   "mimetype": "text/x-python",
   "name": "python",
   "nbconvert_exporter": "python",
   "pygments_lexer": "ipython3",
   "version": "3.9.7"
  }
 },
 "nbformat": 4,
 "nbformat_minor": 5
}
